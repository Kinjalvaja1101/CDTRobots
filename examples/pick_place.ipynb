{
 "cells": [
  {
   "cell_type": "code",
   "execution_count": 1,
   "metadata": {},
   "outputs": [],
   "source": [
    "import requests\n",
    "import numpy as np\n",
    "from matplotlib import pyplot as plt\n",
    "import sys\n",
    "import os\n",
    "import math"
   ]
  },
  {
   "cell_type": "code",
   "execution_count": 2,
   "metadata": {},
   "outputs": [],
   "source": [
    "current_dir = os.path.dirname(os.path.abspath('examples'))\n",
    "sys.path.append(os.path.join(current_dir, 'robotiq'))\n",
    "from utils.UR_Functions import URfunctions as URControl\n",
    "from robotiq.robotiq_gripper import RobotiqGripper"
   ]
  },
  {
   "cell_type": "code",
   "execution_count": 3,
   "metadata": {},
   "outputs": [],
   "source": [
    "def degreestorad(list):\n",
    "     for i in range(6):\n",
    "          list[i]=list[i]*(math.pi/180)\n",
    "     return(list)    "
   ]
  },
  {
   "cell_type": "code",
   "execution_count": 4,
   "metadata": {},
   "outputs": [
    {
     "name": "stdout",
     "output_type": "stream",
     "text": [
      "Connected to robot\n",
      "Gripper auto-calibrated to [3, 248]\n"
     ]
    }
   ],
   "source": [
    "robot = URControl(ip=\"192.168.0.2\", port=30003)\n",
    "gripper=RobotiqGripper()\n",
    "gripper.connect(\"192.168.0.2\", 63352)\n",
    "gripper.activate()"
   ]
  },
  {
   "cell_type": "code",
   "execution_count": 7,
   "metadata": {},
   "outputs": [],
   "source": [
    "#move to start state\n",
    "gripper.move(0,125,125)\n",
    "joint_state = [0.00000744, -1.57083954, 1.57082969, -1.57077511, -1.57079918, -0.00003463]\n",
    "robot.move_joint_list(joint_state, 0.25, 0.5, 0.02)"
   ]
  },
  {
   "cell_type": "code",
   "execution_count": 8,
   "metadata": {},
   "outputs": [],
   "source": [
    "#move and pick up vial 1\n",
    "joint_state = degreestorad([-5.61,-83.95,112.70,-119.79,-90.07,-5.48])\n",
    "robot.move_joint_list(joint_state, 0.25, 0.5, 0.02)\n",
    "gripper.move(255,125,125)\n",
    "joint_state = degreestorad([-5.61,-88.51,105.96,-107.5,-90.03,-5.53])\n",
    "robot.move_joint_list(joint_state, 0.25, 0.5, 0.02)"
   ]
  },
  {
   "cell_type": "code",
   "execution_count": null,
   "metadata": {},
   "outputs": [],
   "source": [
    "#pick up vial 2\n",
    "joint_state = degreestorad([-1.37,-83.69,111.69,-118.03,-90.07,-1.24])\n",
    "robot.move_joint_list(joint_state, 0.25, 0.5, 0.02)\n",
    "gripper.move(255,125,125)\n",
    "joint_state = [-0.02380783, -1.53301641,  1.81360704, -1.85189833, -1.57132942, -0.02249176]\n",
    "robot.move_joint_list(joint_state, 0.25, 0.5, 0.02)"
   ]
  },
  {
   "cell_type": "code",
   "execution_count": 6,
   "metadata": {},
   "outputs": [
    {
     "name": "stdout",
     "output_type": "stream",
     "text": [
      "[-0.02380783 -1.53301641  1.81360704 -1.85189833 -1.57132942 -0.02249176]\n"
     ]
    }
   ],
   "source": [
    "print(robot.get_current_joint_positions())"
   ]
  },
  {
   "cell_type": "code",
   "execution_count": 9,
   "metadata": {},
   "outputs": [
    {
     "data": {
      "text/plain": [
       "(True, 3)"
      ]
     },
     "execution_count": 9,
     "metadata": {},
     "output_type": "execute_result"
    }
   ],
   "source": [
    "#place vial 1 in slot 2\n",
    "joint_state = degreestorad([-1.36,-88.22,102.71,-104.52,-90.03,-1.29])\n",
    "robot.move_joint_list(joint_state, 0.25, 0.5, 0.02)\n",
    "joint_state = degreestorad([-1.37,-83.69,111.69,-118.03,-90.07,-1.24])\n",
    "robot.move_joint_list(joint_state, 0.25, 0.5, 0.02)\n",
    "gripper.move(0,125,125)"
   ]
  },
  {
   "cell_type": "code",
   "execution_count": 10,
   "metadata": {},
   "outputs": [],
   "source": [
    "#placevial2 in slot 1\n",
    "joint_state = [0.00000744, -1.57083954, 1.57082969, -1.57077511, -1.57079918, -0.00003463]\n",
    "robot.move_joint_list(joint_state, 0.25, 0.5, 0.02)\n",
    "joint_state = degreestorad([-5.61,-83.95,112.70,-119.79,-90.07,-5.48])\n",
    "robot.move_joint_list(joint_state, 0.25, 0.5, 0.02)\n",
    "gripper.move(0,125,125)\n",
    "joint_state = degreestorad([-5.61,-88.51,105.96,-107.5,-90.03,-5.53])\n",
    "robot.move_joint_list(joint_state, 0.25, 0.5, 0.02)"
   ]
  }
 ],
 "metadata": {
  "kernelspec": {
   "display_name": "ur5",
   "language": "python",
   "name": "python3"
  },
  "language_info": {
   "codemirror_mode": {
    "name": "ipython",
    "version": 3
   },
   "file_extension": ".py",
   "mimetype": "text/x-python",
   "name": "python",
   "nbconvert_exporter": "python",
   "pygments_lexer": "ipython3",
   "version": "3.10.14"
  }
 },
 "nbformat": 4,
 "nbformat_minor": 2
}
