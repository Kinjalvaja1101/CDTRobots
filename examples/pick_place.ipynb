{
 "cells": [
  {
   "cell_type": "code",
   "execution_count": 1,
   "metadata": {},
   "outputs": [],
   "source": [
    "import requests\n",
    "import numpy as np\n",
    "from matplotlib import pyplot as plt\n",
    "import sys\n",
    "import os\n",
    "import math"
   ]
  },
  {
   "cell_type": "code",
   "execution_count": 2,
   "metadata": {},
   "outputs": [],
   "source": [
    "current_dir = os.path.dirname(os.path.abspath('examples'))\n",
    "sys.path.append(os.path.join(current_dir, 'robotiq'))\n",
    "from utils.UR_Functions import URfunctions as URControl\n",
    "from robotiq.robotiq_gripper import RobotiqGripper"
   ]
  },
  {
   "cell_type": "code",
   "execution_count": 3,
   "metadata": {},
   "outputs": [],
   "source": [
    "def degreestorad(list):\n",
    "     for i in range(6):\n",
    "          list[i]=list[i]*(math.pi/180)\n",
    "     return(list)    "
   ]
  },
  {
   "cell_type": "code",
   "execution_count": 4,
   "metadata": {},
   "outputs": [
    {
     "name": "stdout",
     "output_type": "stream",
     "text": [
      "Connected to robot\n"
     ]
    },
    {
     "ename": "ConnectionRefusedError",
     "evalue": "[Errno 111] Connection refused",
     "output_type": "error",
     "traceback": [
      "\u001b[0;31m---------------------------------------------------------------------------\u001b[0m",
      "\u001b[0;31mConnectionRefusedError\u001b[0m                    Traceback (most recent call last)",
      "Cell \u001b[0;32mIn[4], line 3\u001b[0m\n\u001b[1;32m      1\u001b[0m robot \u001b[38;5;241m=\u001b[39m URControl(ip\u001b[38;5;241m=\u001b[39m\u001b[38;5;124m\"\u001b[39m\u001b[38;5;124m192.168.0.2\u001b[39m\u001b[38;5;124m\"\u001b[39m, port\u001b[38;5;241m=\u001b[39m\u001b[38;5;241m30003\u001b[39m)\n\u001b[1;32m      2\u001b[0m gripper\u001b[38;5;241m=\u001b[39mRobotiqGripper()\n\u001b[0;32m----> 3\u001b[0m \u001b[43mgripper\u001b[49m\u001b[38;5;241;43m.\u001b[39;49m\u001b[43mconnect\u001b[49m\u001b[43m(\u001b[49m\u001b[38;5;124;43m\"\u001b[39;49m\u001b[38;5;124;43m192.168.0.2\u001b[39;49m\u001b[38;5;124;43m\"\u001b[39;49m\u001b[43m,\u001b[49m\u001b[43m \u001b[49m\u001b[38;5;241;43m63352\u001b[39;49m\u001b[43m)\u001b[49m\n\u001b[1;32m      4\u001b[0m gripper\u001b[38;5;241m.\u001b[39mactivate()\n",
      "File \u001b[0;32m~/ctl-ur5-robot-tools/examples/robotiq/robotiq_gripper.py:61\u001b[0m, in \u001b[0;36mRobotiqGripper.connect\u001b[0;34m(self, hostname, port, socket_timeout)\u001b[0m\n\u001b[1;32m     55\u001b[0m \u001b[38;5;250m\u001b[39m\u001b[38;5;124;03m\"\"\"Connects to a gripper at the given address.\u001b[39;00m\n\u001b[1;32m     56\u001b[0m \u001b[38;5;124;03m:param hostname: Hostname or ip.\u001b[39;00m\n\u001b[1;32m     57\u001b[0m \u001b[38;5;124;03m:param port: Port.\u001b[39;00m\n\u001b[1;32m     58\u001b[0m \u001b[38;5;124;03m:param socket_timeout: Timeout for blocking socket operations.\u001b[39;00m\n\u001b[1;32m     59\u001b[0m \u001b[38;5;124;03m\"\"\"\u001b[39;00m\n\u001b[1;32m     60\u001b[0m \u001b[38;5;28mself\u001b[39m\u001b[38;5;241m.\u001b[39msocket \u001b[38;5;241m=\u001b[39m socket\u001b[38;5;241m.\u001b[39msocket(socket\u001b[38;5;241m.\u001b[39mAF_INET, socket\u001b[38;5;241m.\u001b[39mSOCK_STREAM)\n\u001b[0;32m---> 61\u001b[0m \u001b[38;5;28;43mself\u001b[39;49m\u001b[38;5;241;43m.\u001b[39;49m\u001b[43msocket\u001b[49m\u001b[38;5;241;43m.\u001b[39;49m\u001b[43mconnect\u001b[49m\u001b[43m(\u001b[49m\u001b[43m(\u001b[49m\u001b[43mhostname\u001b[49m\u001b[43m,\u001b[49m\u001b[43m \u001b[49m\u001b[43mport\u001b[49m\u001b[43m)\u001b[49m\u001b[43m)\u001b[49m\n\u001b[1;32m     62\u001b[0m \u001b[38;5;28mself\u001b[39m\u001b[38;5;241m.\u001b[39msocket\u001b[38;5;241m.\u001b[39msettimeout(socket_timeout)\n",
      "\u001b[0;31mConnectionRefusedError\u001b[0m: [Errno 111] Connection refused"
     ]
    }
   ],
   "source": [
    "robot = URControl(ip=\"192.168.0.2\", port=30003)\n",
    "gripper=RobotiqGripper()\n",
    "gripper.connect(\"192.168.0.2\", 63352)\n",
    "gripper.activate()"
   ]
  },
  {
   "cell_type": "code",
   "execution_count": 7,
   "metadata": {},
   "outputs": [
    {
     "ename": "BrokenPipeError",
     "evalue": "[Errno 32] Broken pipe",
     "output_type": "error",
     "traceback": [
      "\u001b[0;31m---------------------------------------------------------------------------\u001b[0m",
      "\u001b[0;31mBrokenPipeError\u001b[0m                           Traceback (most recent call last)",
      "Cell \u001b[0;32mIn[7], line 2\u001b[0m\n\u001b[1;32m      1\u001b[0m \u001b[38;5;66;03m#move to start state\u001b[39;00m\n\u001b[0;32m----> 2\u001b[0m \u001b[43mgripper\u001b[49m\u001b[38;5;241;43m.\u001b[39;49m\u001b[43mmove\u001b[49m\u001b[43m(\u001b[49m\u001b[38;5;241;43m0\u001b[39;49m\u001b[43m,\u001b[49m\u001b[38;5;241;43m125\u001b[39;49m\u001b[43m,\u001b[49m\u001b[38;5;241;43m125\u001b[39;49m\u001b[43m)\u001b[49m\n\u001b[1;32m      3\u001b[0m joint_state \u001b[38;5;241m=\u001b[39m [\u001b[38;5;241m0.00000744\u001b[39m, \u001b[38;5;241m-\u001b[39m\u001b[38;5;241m1.57083954\u001b[39m, \u001b[38;5;241m1.57082969\u001b[39m, \u001b[38;5;241m-\u001b[39m\u001b[38;5;241m1.57077511\u001b[39m, \u001b[38;5;241m-\u001b[39m\u001b[38;5;241m1.57079918\u001b[39m, \u001b[38;5;241m-\u001b[39m\u001b[38;5;241m0.00003463\u001b[39m]\n\u001b[1;32m      4\u001b[0m robot\u001b[38;5;241m.\u001b[39mmove_joint_list(joint_state, \u001b[38;5;241m0.25\u001b[39m, \u001b[38;5;241m0.5\u001b[39m, \u001b[38;5;241m0.02\u001b[39m)\n",
      "File \u001b[0;32m~/ctl-ur5-robot-tools/examples/robotiq/robotiq_gripper.py:263\u001b[0m, in \u001b[0;36mRobotiqGripper.move\u001b[0;34m(self, position, speed, force)\u001b[0m\n\u001b[1;32m    261\u001b[0m \u001b[38;5;66;03m# moves to the given position with the given speed and force\u001b[39;00m\n\u001b[1;32m    262\u001b[0m var_dict \u001b[38;5;241m=\u001b[39m OrderedDict([(\u001b[38;5;28mself\u001b[39m\u001b[38;5;241m.\u001b[39mPOS, clip_pos), (\u001b[38;5;28mself\u001b[39m\u001b[38;5;241m.\u001b[39mSPE, clip_spe), (\u001b[38;5;28mself\u001b[39m\u001b[38;5;241m.\u001b[39mFOR, clip_for), (\u001b[38;5;28mself\u001b[39m\u001b[38;5;241m.\u001b[39mGTO, \u001b[38;5;241m1\u001b[39m)])\n\u001b[0;32m--> 263\u001b[0m \u001b[38;5;28;01mreturn\u001b[39;00m \u001b[38;5;28;43mself\u001b[39;49m\u001b[38;5;241;43m.\u001b[39;49m\u001b[43m_set_vars\u001b[49m\u001b[43m(\u001b[49m\u001b[43mvar_dict\u001b[49m\u001b[43m)\u001b[49m, clip_pos\n",
      "File \u001b[0;32m~/ctl-ur5-robot-tools/examples/robotiq/robotiq_gripper.py:81\u001b[0m, in \u001b[0;36mRobotiqGripper._set_vars\u001b[0;34m(self, var_dict)\u001b[0m\n\u001b[1;32m     79\u001b[0m \u001b[38;5;66;03m# atomic commands send/rcv\u001b[39;00m\n\u001b[1;32m     80\u001b[0m \u001b[38;5;28;01mwith\u001b[39;00m \u001b[38;5;28mself\u001b[39m\u001b[38;5;241m.\u001b[39mcommand_lock:\n\u001b[0;32m---> 81\u001b[0m     \u001b[38;5;28;43mself\u001b[39;49m\u001b[38;5;241;43m.\u001b[39;49m\u001b[43msocket\u001b[49m\u001b[38;5;241;43m.\u001b[39;49m\u001b[43msendall\u001b[49m\u001b[43m(\u001b[49m\u001b[43mcmd\u001b[49m\u001b[38;5;241;43m.\u001b[39;49m\u001b[43mencode\u001b[49m\u001b[43m(\u001b[49m\u001b[38;5;28;43mself\u001b[39;49m\u001b[38;5;241;43m.\u001b[39;49m\u001b[43mENCODING\u001b[49m\u001b[43m)\u001b[49m\u001b[43m)\u001b[49m\n\u001b[1;32m     82\u001b[0m     data \u001b[38;5;241m=\u001b[39m \u001b[38;5;28mself\u001b[39m\u001b[38;5;241m.\u001b[39msocket\u001b[38;5;241m.\u001b[39mrecv(\u001b[38;5;241m1024\u001b[39m)\n\u001b[1;32m     83\u001b[0m \u001b[38;5;28;01mreturn\u001b[39;00m \u001b[38;5;28mself\u001b[39m\u001b[38;5;241m.\u001b[39m_is_ack(data)\n",
      "\u001b[0;31mBrokenPipeError\u001b[0m: [Errno 32] Broken pipe"
     ]
    }
   ],
   "source": [
    "#move to start state\n",
    "gripper.move(0,125,125)\n",
    "joint_state = [0.00000744, -1.57083954, 1.57082969, -1.57077511, -1.57079918, -0.00003463]\n",
    "robot.move_joint_list(joint_state, 0.25, 0.5, 0.02)"
   ]
  },
  {
   "cell_type": "code",
   "execution_count": 6,
   "metadata": {},
   "outputs": [
    {
     "ename": "BrokenPipeError",
     "evalue": "[Errno 32] Broken pipe",
     "output_type": "error",
     "traceback": [
      "\u001b[0;31m---------------------------------------------------------------------------\u001b[0m",
      "\u001b[0;31mBrokenPipeError\u001b[0m                           Traceback (most recent call last)",
      "Cell \u001b[0;32mIn[6], line 4\u001b[0m\n\u001b[1;32m      2\u001b[0m joint_state \u001b[38;5;241m=\u001b[39m degreestorad([\u001b[38;5;241m-\u001b[39m\u001b[38;5;241m5.61\u001b[39m,\u001b[38;5;241m-\u001b[39m\u001b[38;5;241m83.95\u001b[39m,\u001b[38;5;241m112.70\u001b[39m,\u001b[38;5;241m-\u001b[39m\u001b[38;5;241m119.79\u001b[39m,\u001b[38;5;241m-\u001b[39m\u001b[38;5;241m90.07\u001b[39m,\u001b[38;5;241m-\u001b[39m\u001b[38;5;241m5.48\u001b[39m])\n\u001b[1;32m      3\u001b[0m robot\u001b[38;5;241m.\u001b[39mmove_joint_list(joint_state, \u001b[38;5;241m0.25\u001b[39m, \u001b[38;5;241m0.5\u001b[39m, \u001b[38;5;241m0.02\u001b[39m)\n\u001b[0;32m----> 4\u001b[0m \u001b[43mgripper\u001b[49m\u001b[38;5;241;43m.\u001b[39;49m\u001b[43mmove\u001b[49m\u001b[43m(\u001b[49m\u001b[38;5;241;43m255\u001b[39;49m\u001b[43m,\u001b[49m\u001b[38;5;241;43m125\u001b[39;49m\u001b[43m,\u001b[49m\u001b[38;5;241;43m125\u001b[39;49m\u001b[43m)\u001b[49m\n\u001b[1;32m      5\u001b[0m joint_state \u001b[38;5;241m=\u001b[39m degreestorad([\u001b[38;5;241m-\u001b[39m\u001b[38;5;241m5.61\u001b[39m,\u001b[38;5;241m-\u001b[39m\u001b[38;5;241m88.51\u001b[39m,\u001b[38;5;241m105.96\u001b[39m,\u001b[38;5;241m-\u001b[39m\u001b[38;5;241m107.5\u001b[39m,\u001b[38;5;241m-\u001b[39m\u001b[38;5;241m90.03\u001b[39m,\u001b[38;5;241m-\u001b[39m\u001b[38;5;241m5.53\u001b[39m])\n\u001b[1;32m      6\u001b[0m robot\u001b[38;5;241m.\u001b[39mmove_joint_list(joint_state, \u001b[38;5;241m0.25\u001b[39m, \u001b[38;5;241m0.5\u001b[39m, \u001b[38;5;241m0.02\u001b[39m)\n",
      "File \u001b[0;32m~/ctl-ur5-robot-tools/examples/robotiq/robotiq_gripper.py:263\u001b[0m, in \u001b[0;36mRobotiqGripper.move\u001b[0;34m(self, position, speed, force)\u001b[0m\n\u001b[1;32m    261\u001b[0m \u001b[38;5;66;03m# moves to the given position with the given speed and force\u001b[39;00m\n\u001b[1;32m    262\u001b[0m var_dict \u001b[38;5;241m=\u001b[39m OrderedDict([(\u001b[38;5;28mself\u001b[39m\u001b[38;5;241m.\u001b[39mPOS, clip_pos), (\u001b[38;5;28mself\u001b[39m\u001b[38;5;241m.\u001b[39mSPE, clip_spe), (\u001b[38;5;28mself\u001b[39m\u001b[38;5;241m.\u001b[39mFOR, clip_for), (\u001b[38;5;28mself\u001b[39m\u001b[38;5;241m.\u001b[39mGTO, \u001b[38;5;241m1\u001b[39m)])\n\u001b[0;32m--> 263\u001b[0m \u001b[38;5;28;01mreturn\u001b[39;00m \u001b[38;5;28;43mself\u001b[39;49m\u001b[38;5;241;43m.\u001b[39;49m\u001b[43m_set_vars\u001b[49m\u001b[43m(\u001b[49m\u001b[43mvar_dict\u001b[49m\u001b[43m)\u001b[49m, clip_pos\n",
      "File \u001b[0;32m~/ctl-ur5-robot-tools/examples/robotiq/robotiq_gripper.py:81\u001b[0m, in \u001b[0;36mRobotiqGripper._set_vars\u001b[0;34m(self, var_dict)\u001b[0m\n\u001b[1;32m     79\u001b[0m \u001b[38;5;66;03m# atomic commands send/rcv\u001b[39;00m\n\u001b[1;32m     80\u001b[0m \u001b[38;5;28;01mwith\u001b[39;00m \u001b[38;5;28mself\u001b[39m\u001b[38;5;241m.\u001b[39mcommand_lock:\n\u001b[0;32m---> 81\u001b[0m     \u001b[38;5;28;43mself\u001b[39;49m\u001b[38;5;241;43m.\u001b[39;49m\u001b[43msocket\u001b[49m\u001b[38;5;241;43m.\u001b[39;49m\u001b[43msendall\u001b[49m\u001b[43m(\u001b[49m\u001b[43mcmd\u001b[49m\u001b[38;5;241;43m.\u001b[39;49m\u001b[43mencode\u001b[49m\u001b[43m(\u001b[49m\u001b[38;5;28;43mself\u001b[39;49m\u001b[38;5;241;43m.\u001b[39;49m\u001b[43mENCODING\u001b[49m\u001b[43m)\u001b[49m\u001b[43m)\u001b[49m\n\u001b[1;32m     82\u001b[0m     data \u001b[38;5;241m=\u001b[39m \u001b[38;5;28mself\u001b[39m\u001b[38;5;241m.\u001b[39msocket\u001b[38;5;241m.\u001b[39mrecv(\u001b[38;5;241m1024\u001b[39m)\n\u001b[1;32m     83\u001b[0m \u001b[38;5;28;01mreturn\u001b[39;00m \u001b[38;5;28mself\u001b[39m\u001b[38;5;241m.\u001b[39m_is_ack(data)\n",
      "\u001b[0;31mBrokenPipeError\u001b[0m: [Errno 32] Broken pipe"
     ]
    }
   ],
   "source": [
    "#move and pick up vial 1\n",
    "joint_state = degreestorad([-5.61,-83.95,112.70,-119.79,-90.07,-5.48])\n",
    "robot.move_joint_list(joint_state, 0.25, 0.5, 0.02)\n",
    "gripper.move(255,125,125)\n",
    "joint_state = degreestorad([-5.61,-88.51,105.96,-107.5,-90.03,-5.53])\n",
    "robot.move_joint_list(joint_state, 0.25, 0.5, 0.02)"
   ]
  },
  {
   "cell_type": "code",
   "execution_count": null,
   "metadata": {},
   "outputs": [],
   "source": [
    "#pick up vial 2\n",
    "joint_state = degreestorad([-1.37,-83.69,111.69,-118.03,-90.07,-1.24])\n",
    "robot.move_joint_list(joint_state, 0.25, 0.5, 0.02)\n",
    "gripper.move(255,125,125)\n",
    "joint_state = [-0.02380783, -1.53301641,  1.81360704, -1.85189833, -1.57132942, -0.02249176]\n",
    "robot.move_joint_list(joint_state, 0.25, 0.5, 0.02)"
   ]
  },
  {
   "cell_type": "code",
   "execution_count": 6,
   "metadata": {},
   "outputs": [
    {
     "name": "stdout",
     "output_type": "stream",
     "text": [
      "[-0.02380783 -1.53301641  1.81360704 -1.85189833 -1.57132942 -0.02249176]\n"
     ]
    }
   ],
   "source": [
    "print(robot.get_current_joint_positions())"
   ]
  },
  {
   "cell_type": "code",
   "execution_count": 9,
   "metadata": {},
   "outputs": [
    {
     "data": {
      "text/plain": [
       "(True, 3)"
      ]
     },
     "execution_count": 9,
     "metadata": {},
     "output_type": "execute_result"
    }
   ],
   "source": [
    "#place vial 1 in slot 2\n",
    "joint_state = degreestorad([-1.36,-88.22,102.71,-104.52,-90.03,-1.29])\n",
    "robot.move_joint_list(joint_state, 0.25, 0.5, 0.02)\n",
    "joint_state = degreestorad([-1.37,-83.69,111.69,-118.03,-90.07,-1.24])\n",
    "robot.move_joint_list(joint_state, 0.25, 0.5, 0.02)\n",
    "gripper.move(0,125,125)"
   ]
  },
  {
   "cell_type": "code",
   "execution_count": 10,
   "metadata": {},
   "outputs": [],
   "source": [
    "#placevial2 in slot 1\n",
    "joint_state = [0.00000744, -1.57083954, 1.57082969, -1.57077511, -1.57079918, -0.00003463]\n",
    "robot.move_joint_list(joint_state, 0.25, 0.5, 0.02)\n",
    "joint_state = degreestorad([-5.61,-83.95,112.70,-119.79,-90.07,-5.48])\n",
    "robot.move_joint_list(joint_state, 0.25, 0.5, 0.02)\n",
    "gripper.move(0,125,125)\n",
    "joint_state = degreestorad([-5.61,-88.51,105.96,-107.5,-90.03,-5.53])\n",
    "robot.move_joint_list(joint_state, 0.25, 0.5, 0.02)"
   ]
  }
 ],
 "metadata": {
  "kernelspec": {
   "display_name": "ur5",
   "language": "python",
   "name": "python3"
  },
  "language_info": {
   "codemirror_mode": {
    "name": "ipython",
    "version": 3
   },
   "file_extension": ".py",
   "mimetype": "text/x-python",
   "name": "python",
   "nbconvert_exporter": "python",
   "pygments_lexer": "ipython3",
   "version": "3.10.13"
  }
 },
 "nbformat": 4,
 "nbformat_minor": 2
}
